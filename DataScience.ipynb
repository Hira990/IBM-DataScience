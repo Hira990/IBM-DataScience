{
  "metadata": {
    "language_info": {
      "codemirror_mode": {
        "name": "python",
        "version": 3
      },
      "file_extension": ".py",
      "mimetype": "text/x-python",
      "name": "python",
      "nbconvert_exporter": "python",
      "pygments_lexer": "ipython3",
      "version": "3.8"
    },
    "kernelspec": {
      "name": "python",
      "display_name": "Python (Pyodide)",
      "language": "python"
    }
  },
  "nbformat_minor": 4,
  "nbformat": 4,
  "cells": [
    {
      "cell_type": "markdown",
      "source": "# Data Science Notebook",
      "metadata": {}
    },
    {
      "cell_type": "markdown",
      "source": "## Introduction\nWelcome to this data science notebook! In this notebook, we will explore various data science concepts and demonstrate their implementation through code examples. Let's dive in!\n",
      "metadata": {}
    },
    {
      "cell_type": "markdown",
      "source": "## Data Science Languages\n- Python\n- R\n- SQL\n- Julia\n- Scala",
      "metadata": {}
    },
    {
      "cell_type": "markdown",
      "source": "## Data Science Libraries\n- NumPy\n- Pandas\n- Matplotlib\n- Seaborn\n- Scikit-learn\n- TensorFlow\n- PyTorch",
      "metadata": {}
    },
    {
      "cell_type": "markdown",
      "source": "## Data Science Tools\n\n| Category     | Tools               |\n|--------------|---------------------|\n| Data Wrangling   | Pandas, dplyr, SQL |\n| Data Visualization | Matplotlib, Seaborn, ggplot2 |\n| Machine Learning  | Scikit-learn, TensorFlow, PyTorch |\n| Big Data Processing | Spark, Hadoop, Hive |\n",
      "metadata": {}
    },
    {
      "cell_type": "markdown",
      "source": "## Arithmetic Expression Examples\nLet's explore some examples of arithmetic expressions in Python. We'll perform basic mathematical operations like addition, subtraction, multiplication, and division.\n",
      "metadata": {}
    },
    {
      "cell_type": "markdown",
      "source": "# Multiply and Add Numbers\na = 5\nb = 3\nmultiply_result = a * b\nadd_result = a + b\n\nmultiply_result, add_result\n",
      "metadata": {}
    },
    {
      "cell_type": "markdown",
      "source": "# Convert Minutes to Hours\nminutes = 150\nhours = minutes / 60\n\nhours\n",
      "metadata": {}
    },
    {
      "cell_type": "markdown",
      "source": "## Objectives\n- Learn about data science languages and libraries\n- Understand and apply basic arithmetic operations in Python\n- Perform data wrangling, visualization, and machine learning tasks using popular tools\n- Gain familiarity with big data processing frameworks\n",
      "metadata": {}
    },
    {
      "cell_type": "markdown",
      "source": "## Author\nJohn Doe\n",
      "metadata": {}
    },
    {
      "cell_type": "code",
      "source": "",
      "metadata": {},
      "execution_count": null,
      "outputs": []
    }
  ]
}